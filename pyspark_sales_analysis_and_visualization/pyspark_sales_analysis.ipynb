{
 "cells": [
  {
   "cell_type": "code",
   "execution_count": 47,
   "metadata": {},
   "outputs": [],
   "source": [
    "#import functions\n",
    "from pyspark.sql.functions import month, year, quarter, count, countDistinct\n",
    "from pyspark.sql import SparkSession\n",
    "from pyspark.sql.types import StructType, StructField, IntegerType, StringType, DateType"
   ]
  },
  {
   "cell_type": "code",
   "execution_count": 2,
   "metadata": {},
   "outputs": [],
   "source": [
    "#creatig spark session\n",
    "spark = SparkSession.builder.appName(\"sales_analysis\").getOrCreate()"
   ]
  },
  {
   "cell_type": "code",
   "execution_count": 3,
   "metadata": {},
   "outputs": [],
   "source": [
    "#Defining schema\n",
    "schema = StructType([\n",
    "    StructField(\"Product_id\",IntegerType(), True),\n",
    "    StructField(\"Customer_id\",StringType(), True),\n",
    "    StructField(\"Order_date\",DateType(), True),\n",
    "    StructField(\"Location\",StringType(), True),\n",
    "    StructField(\"Source_order\",StringType(), True)\n",
    "])"
   ]
  },
  {
   "cell_type": "markdown",
   "metadata": {},
   "source": [
    "SALES DATAFRAME"
   ]
  },
  {
   "cell_type": "code",
   "execution_count": 4,
   "metadata": {},
   "outputs": [
    {
     "name": "stdout",
     "output_type": "stream",
     "text": [
      "+----------+-----------+----------+--------+------------+\n",
      "|Product_id|Customer_id|Order_date|Location|Source_order|\n",
      "+----------+-----------+----------+--------+------------+\n",
      "|         1|          A|2023-01-01|   India|      Swiggy|\n",
      "|         2|          A|2022-01-01|   India|      Swiggy|\n",
      "|         2|          A|2023-01-07|   India|      Swiggy|\n",
      "|         3|          A|2023-01-10|   India|  Restaurant|\n",
      "|         3|          A|2022-01-11|   India|      Swiggy|\n",
      "+----------+-----------+----------+--------+------------+\n",
      "only showing top 5 rows\n",
      "\n"
     ]
    }
   ],
   "source": [
    "#creating datframe\n",
    "sales_df = spark.read.format(\"csv\").option(\"inferschema\",\"true\").schema(schema).load(r'C:\\Users\\User\\sales.csv.txt')\n",
    "sales_df.show(5)"
   ]
  },
  {
   "cell_type": "code",
   "execution_count": 5,
   "metadata": {},
   "outputs": [
    {
     "name": "stdout",
     "output_type": "stream",
     "text": [
      "+----------+-----------+----------+--------+------------+----------+-----------+-------------+\n",
      "|Product_id|Customer_id|Order_date|Location|Source_order|order_year|order_month|order_quarter|\n",
      "+----------+-----------+----------+--------+------------+----------+-----------+-------------+\n",
      "|         1|          A|2023-01-01|   India|      Swiggy|      2023|          1|            1|\n",
      "|         2|          A|2022-01-01|   India|      Swiggy|      2022|          1|            1|\n",
      "|         2|          A|2023-01-07|   India|      Swiggy|      2023|          1|            1|\n",
      "|         3|          A|2023-01-10|   India|  Restaurant|      2023|          1|            1|\n",
      "|         3|          A|2022-01-11|   India|      Swiggy|      2022|          1|            1|\n",
      "+----------+-----------+----------+--------+------------+----------+-----------+-------------+\n",
      "only showing top 5 rows\n",
      "\n"
     ]
    }
   ],
   "source": [
    "#Deriving year, month and quarter\n",
    "\n",
    "sales_df = sales_df.withColumn(\"order_year\", year(sales_df.Order_date))\n",
    "\n",
    "sales_df = sales_df.withColumn(\"order_month\", month(sales_df.Order_date))\n",
    "\n",
    "sales_df = sales_df.withColumn(\"order_quarter\", quarter(sales_df.Order_date))\n",
    "\n",
    "sales_df.show(5)"
   ]
  },
  {
   "cell_type": "markdown",
   "metadata": {},
   "source": [
    "MENU DATAFRAME"
   ]
  },
  {
   "cell_type": "code",
   "execution_count": 6,
   "metadata": {},
   "outputs": [],
   "source": [
    "schema1 = StructType([\n",
    "    StructField(\"product_id\",IntegerType(), True),\n",
    "    StructField(\"Product_name\", StringType(), True),\n",
    "    StructField(\"Price\", StringType(), True)\n",
    "])"
   ]
  },
  {
   "cell_type": "code",
   "execution_count": 7,
   "metadata": {},
   "outputs": [
    {
     "name": "stdout",
     "output_type": "stream",
     "text": [
      "+----------+------------+-----+\n",
      "|product_id|Product_name|Price|\n",
      "+----------+------------+-----+\n",
      "|         1|       PIZZA|  100|\n",
      "|         2|     Chowmin|  150|\n",
      "|         3|    sandwich|  120|\n",
      "|         4|        Dosa|  110|\n",
      "|         5|     Biryani|   80|\n",
      "+----------+------------+-----+\n",
      "only showing top 5 rows\n",
      "\n"
     ]
    }
   ],
   "source": [
    "menu_df = spark.read.format(\"csv\").schema(schema1).load(r'C:\\Users\\User\\menu.csv.txt')\n",
    "menu_df.show(5)"
   ]
  },
  {
   "cell_type": "markdown",
   "metadata": {},
   "source": [
    "Total amount spent by each customer"
   ]
  },
  {
   "cell_type": "code",
   "execution_count": 8,
   "metadata": {},
   "outputs": [
    {
     "name": "stdout",
     "output_type": "stream",
     "text": [
      "+-----------+----------+\n",
      "|Customer_id|sum(price)|\n",
      "+-----------+----------+\n",
      "|          A|    4260.0|\n",
      "|          B|    4440.0|\n",
      "|          C|    2400.0|\n",
      "|          D|    1200.0|\n",
      "|          E|    2040.0|\n",
      "+-----------+----------+\n",
      "\n"
     ]
    }
   ],
   "source": [
    "total_by_customer = (sales_df.join(menu_df,\"product_id\").groupBy(\"Customer_id\").agg({'price':'sum'})\n",
    "                     .orderBy(\"Customer_id\"))\n",
    "\n",
    "total_by_customer.show()"
   ]
  },
  {
   "cell_type": "code",
   "execution_count": 16,
   "metadata": {},
   "outputs": [
    {
     "data": {
      "image/png": "[encoded data removed]",
      "text/plain": [
       "<Figure size 500x300 with 1 Axes>"
      ]
     },
     "metadata": {},
     "output_type": "display_data"
    }
   ],
   "source": [
    "#plotting area chart using pandas\n",
    "import pandas as pd \n",
    "import matplotlib.pyplot as plt\n",
    "\n",
    "total_by_customer_pd = total_by_customer.toPandas()\n",
    "total_by_customer_pd.plot(kind='area', x ='Customer_id', y='sum(price)', figsize=(5, 3))\n",
    "   \n",
    "plt.title('Total Amount Spent By Customer')\n",
    "plt.xlabel('Customer ID')\n",
    "plt.ylabel('Amount')\n",
    "plt.xticks(rotation=45)\n",
    "plt.grid(False)\n",
    "plt.tight_layout()\n",
    "plt.show() "
   ]
  },
  {
   "cell_type": "markdown",
   "metadata": {},
   "source": [
    "•\tTotal amount spent in each food category"
   ]
  },
  {
   "cell_type": "code",
   "execution_count": 12,
   "metadata": {},
   "outputs": [
    {
     "name": "stdout",
     "output_type": "stream",
     "text": [
      "+------------+----------+\n",
      "|Product_name|sum(price)|\n",
      "+------------+----------+\n",
      "|     Biryani|     480.0|\n",
      "|     Chowmin|    3600.0|\n",
      "|        Dosa|    1320.0|\n",
      "|       PIZZA|    2100.0|\n",
      "|       Pasta|    1080.0|\n",
      "|    sandwich|    5760.0|\n",
      "+------------+----------+\n",
      "\n"
     ]
    }
   ],
   "source": [
    "total_by_food_category = (sales_df.join(menu_df,\"Product_id\").groupBy(\"Product_name\").agg({'price':'sum'})\n",
    "                          .orderBy('Product_name'))\n",
    "total_by_food_category.show()"
   ]
  },
  {
   "cell_type": "code",
   "execution_count": 23,
   "metadata": {},
   "outputs": [
    {
     "data": {
      "image/png": "[encoded data removed]",
      "text/plain": [
       "<Figure size 500x300 with 1 Axes>"
      ]
     },
     "metadata": {},
     "output_type": "display_data"
    }
   ],
   "source": [
    "#visualization\n",
    "total_by_food_category_pd = total_by_food_category.toPandas()\n",
    "\n",
    "total_by_food_category_pd.plot(kind='bar', x ='Product_name', y='sum(price)', figsize=(5, 3), color = 'green')\n",
    "\n",
    "plt.title('Total Amount By Food Category')\n",
    "plt.xlabel('Amount')\n",
    "plt.ylabel('Product')\n",
    "plt.xticks(rotation=45)\n",
    "plt.grid(False)\n",
    "plt.tight_layout()\n",
    "plt.show() \n"
   ]
  },
  {
   "cell_type": "markdown",
   "metadata": {},
   "source": [
    "•\tTotal amount of sales in each month"
   ]
  },
  {
   "cell_type": "code",
   "execution_count": 26,
   "metadata": {},
   "outputs": [
    {
     "name": "stdout",
     "output_type": "stream",
     "text": [
      "+-----------+----------+\n",
      "|order_month|sum(price)|\n",
      "+-----------+----------+\n",
      "|          1|    2960.0|\n",
      "|          6|    2960.0|\n",
      "|          3|     910.0|\n",
      "|          5|    2960.0|\n",
      "|          7|     910.0|\n",
      "|         11|     910.0|\n",
      "|          2|    2730.0|\n",
      "+-----------+----------+\n",
      "\n"
     ]
    }
   ],
   "source": [
    "total_amount_by_month = (sales_df.join(menu_df,\"product_id\").groupBy('order_month').agg({'price':'sum'}))\n",
    "total_amount_by_month.show()"
   ]
  },
  {
   "cell_type": "code",
   "execution_count": 28,
   "metadata": {},
   "outputs": [
    {
     "data": {
      "image/png": "[encoded data removed]",
      "text/plain": [
       "<Figure size 500x300 with 1 Axes>"
      ]
     },
     "metadata": {},
     "output_type": "display_data"
    }
   ],
   "source": [
    "#visualization\n",
    "total_amount_by_month_pd = total_amount_by_month.toPandas()\n",
    "\n",
    "total_amount_by_month_pd.plot(kind='bar', x ='order_month', y='sum(price)', figsize=(5, 3))\n",
    "\n",
    "plt.title('Total Amount By Month')\n",
    "plt.xlabel('Amount')\n",
    "plt.ylabel('month')\n",
    "plt.xticks(rotation=45)\n",
    "plt.grid(False)\n",
    "plt.tight_layout()\n",
    "plt.show()"
   ]
  },
  {
   "cell_type": "markdown",
   "metadata": {},
   "source": [
    "•\tYearly sales"
   ]
  },
  {
   "cell_type": "code",
   "execution_count": 30,
   "metadata": {},
   "outputs": [
    {
     "name": "stdout",
     "output_type": "stream",
     "text": [
      "+----------+----------+\n",
      "|order_year|sum(price)|\n",
      "+----------+----------+\n",
      "|      2022|    4350.0|\n",
      "|      2023|    9990.0|\n",
      "+----------+----------+\n",
      "\n"
     ]
    }
   ],
   "source": [
    "total_amount_by_year = (sales_df.join(menu_df,\"product_id\").groupBy('order_year').agg({'price':'sum'})\n",
    "                        .orderBy('order_year'))\n",
    "total_amount_by_year.show()"
   ]
  },
  {
   "cell_type": "markdown",
   "metadata": {},
   "source": [
    "•\tQuarterly sales"
   ]
  },
  {
   "cell_type": "code",
   "execution_count": 32,
   "metadata": {},
   "outputs": [
    {
     "name": "stdout",
     "output_type": "stream",
     "text": [
      "+-------------+----------+\n",
      "|order_quarter|sum(price)|\n",
      "+-------------+----------+\n",
      "|            1|    6600.0|\n",
      "|            2|    5920.0|\n",
      "|            3|     910.0|\n",
      "|            4|     910.0|\n",
      "+-------------+----------+\n",
      "\n"
     ]
    }
   ],
   "source": [
    "total_amount_by_quarter = (sales_df.join(menu_df,\"product_id\").groupBy('order_quarter').agg({'price':'sum'})\n",
    "                           .orderBy('order_quarter'))\n",
    "total_amount_by_quarter.show()"
   ]
  },
  {
   "cell_type": "code",
   "execution_count": 35,
   "metadata": {},
   "outputs": [
    {
     "data": {
      "image/png": "[encoded data removed]",
      "text/plain": [
       "<Figure size 300x300 with 1 Axes>"
      ]
     },
     "metadata": {},
     "output_type": "display_data"
    }
   ],
   "source": [
    "total_amount_by_quarter_pd = total_amount_by_quarter.toPandas()\n",
    "\n",
    "# Plotting pie chart\n",
    "plt.figure(figsize=(3, 3))\n",
    "plt.pie(total_amount_by_quarter_pd['sum(price)'], labels=total_amount_by_quarter_pd['order_quarter'], autopct='%1.1f%%')\n",
    "plt.title('Total Amount by Quarter')\n",
    "plt.axis('equal')  \n",
    "plt.show()"
   ]
  },
  {
   "cell_type": "markdown",
   "metadata": {},
   "source": [
    "•\tTotal number of orders in each category\n"
   ]
  },
  {
   "cell_type": "code",
   "execution_count": 38,
   "metadata": {},
   "outputs": [
    {
     "name": "stdout",
     "output_type": "stream",
     "text": [
      "+------------+-------------+\n",
      "|product_name|product_count|\n",
      "+------------+-------------+\n",
      "|    sandwich|           48|\n",
      "|     Chowmin|           24|\n",
      "|       PIZZA|           21|\n",
      "|        Dosa|           12|\n",
      "|       Pasta|            6|\n",
      "|     Biryani|            6|\n",
      "+------------+-------------+\n",
      "\n"
     ]
    }
   ],
   "source": [
    "total_orders = (sales_df.join(menu_df,\"product_id\").groupBy('product_name').agg(count('product_id').alias('product_count'))\n",
    "                .orderBy('product_count', ascending = 0))\n",
    "total_orders.show()"
   ]
  },
  {
   "cell_type": "markdown",
   "metadata": {},
   "source": [
    "•\tTop 5 order items"
   ]
  },
  {
   "cell_type": "code",
   "execution_count": 39,
   "metadata": {},
   "outputs": [
    {
     "name": "stdout",
     "output_type": "stream",
     "text": [
      "+------------+-------------+\n",
      "|product_name|product_count|\n",
      "+------------+-------------+\n",
      "|    sandwich|           48|\n",
      "|     Chowmin|           24|\n",
      "|       PIZZA|           21|\n",
      "|        Dosa|           12|\n",
      "|       Pasta|            6|\n",
      "+------------+-------------+\n",
      "\n"
     ]
    }
   ],
   "source": [
    "top_5 = total_orders.limit(5)\n",
    "top_5.show()"
   ]
  },
  {
   "cell_type": "markdown",
   "metadata": {},
   "source": [
    "•\tFrequency of customer’s visits"
   ]
  },
  {
   "cell_type": "code",
   "execution_count": 53,
   "metadata": {},
   "outputs": [
    {
     "name": "stdout",
     "output_type": "stream",
     "text": [
      "+-----------+----------------+\n",
      "|customer_id|number_of_visits|\n",
      "+-----------+----------------+\n",
      "|          D|               1|\n",
      "|          C|               3|\n",
      "|          E|               5|\n",
      "|          B|               6|\n",
      "|          A|               6|\n",
      "+-----------+----------------+\n",
      "\n"
     ]
    }
   ],
   "source": [
    "frequency = (sales_df.filter(sales_df.Source_order=='Restaurant')\n",
    "             .groupBy('customer_id').agg(countDistinct('order_date').alias('number_of_visits'))\n",
    "             .orderBy('number_of_visits'))\n",
    "\n",
    "frequency.show()"
   ]
  },
  {
   "cell_type": "markdown",
   "metadata": {},
   "source": [
    "•\tTotal sales by location"
   ]
  },
  {
   "cell_type": "code",
   "execution_count": 43,
   "metadata": {},
   "outputs": [
    {
     "name": "stdout",
     "output_type": "stream",
     "text": [
      "+--------+----------+\n",
      "|Location|sum(price)|\n",
      "+--------+----------+\n",
      "|      UK|    7020.0|\n",
      "|   India|    4860.0|\n",
      "|     USA|    2460.0|\n",
      "+--------+----------+\n",
      "\n"
     ]
    }
   ],
   "source": [
    "total_by_location = (sales_df.join(menu_df, 'product_id').groupBy('Location').agg({'price':'sum'})\n",
    "                     .orderBy('sum(price)', ascending = 0))\n",
    "total_by_location.show()"
   ]
  },
  {
   "cell_type": "markdown",
   "metadata": {},
   "source": [
    "•\tTotal sales by order source"
   ]
  },
  {
   "cell_type": "code",
   "execution_count": 46,
   "metadata": {},
   "outputs": [
    {
     "name": "stdout",
     "output_type": "stream",
     "text": [
      "+------------+----------+\n",
      "|Source_order|sum(price)|\n",
      "+------------+----------+\n",
      "|      Swiggy|    6330.0|\n",
      "|      zomato|    4920.0|\n",
      "|  Restaurant|    3090.0|\n",
      "+------------+----------+\n",
      "\n"
     ]
    }
   ],
   "source": [
    "total_by_source = (sales_df.join(menu_df, 'product_id').groupBy('Source_order').agg({'price':'sum'})\n",
    "                   .orderBy('sum(price)', ascending = 0))\n",
    "total_by_source.show()"
   ]
  },
  {
   "cell_type": "code",
   "execution_count": null,
   "metadata": {},
   "outputs": [],
   "source": []
  }
 ],
 "metadata": {
  "kernelspec": {
   "display_name": "Python 3 (ipykernel)",
   "language": "python",
   "name": "python3"
  },
  "language_info": {
   "codemirror_mode": {
    "name": "ipython",
    "version": 3
   },
   "file_extension": ".py",
   "mimetype": "text/x-python",
   "name": "python",
   "nbconvert_exporter": "python",
   "pygments_lexer": "ipython3",
   "version": "3.11.5"
  }
 },
 "nbformat": 4,
 "nbformat_minor": 4
}
